{
 "cells": [
  {
   "cell_type": "markdown",
   "metadata": {},
   "source": [
    "# Projet Maison 1\n",
    "\n",
    "Ecrire une fonction `count_words(text)` qui :\n",
    "\n",
    "1. Extrait tous les mots d'un texte (N.B. on pourra utiliser la fonction `findall()` du module **re** et le motif `\"[A-Za-z]+\"`, voir https://docs.python.org/3.9/library/re.html#module-contents)\n",
    "2. Retourne un dictionnaire avec pour chaque mot le nombre d'occurrences du mot dans le texte.\n",
    "\n",
    "Avec le texte `\"A bon chat bon rat.\"` la fonction doit retourner : `{'A':1, 'bon':2, 'chat':1, 'rat':1}`.\n",
    "\n",
    "**Important : le notebook doit être entièrement exécuté et déposé sur _github_ (donc avec les résultats des tests).**\n"
   ]
  },
  {
   "cell_type": "code",
   "execution_count": 11,
   "metadata": {},
   "outputs": [],
   "source": [
    "# a compléter\n",
    "from collections import Counter\n",
    "import re\n",
    "# def remove_special_characters(text):\n",
    "#     # remove coma\n",
    "#     text.replace(',', ' ')\n",
    "#     # remove apostrofe\n",
    "#     text.replace(\"'\",\" \")\n",
    "#     text.replace(\".\",\" \")\n",
    "#     # other signes\n",
    "#     text = re.sub('[!@#$]!\\,', ' ', text)\n",
    "    \n",
    "#     text = re.sub(r'http\\S+', '', text)\n",
    "\n",
    "#     return text\n",
    "\n",
    "# def count_the_word(vocabulary, text):\n",
    "#     #clean_text = remove_special_characters(text)\n",
    "#     # clean_text.split()\n",
    "#     words = re.findall(r\"[A-Za-z]+\", text)\n",
    "#     counter = 0\n",
    "#     for word in words:\n",
    "#         if word == vocabulary:\n",
    "#             counter = counter +1\n",
    "#     return counter\n",
    "\n",
    "# def count_words(text):\n",
    "#     dico = {}\n",
    "#     #words = remove_special_characters(text).split()\n",
    "#     words = re.findall(r\"[A-Za-z]+\", text)\n",
    "#     for word in words:\n",
    "#        dico[word]= count_the_word(word,text)\n",
    "            \n",
    "#     return dico\n",
    "\n",
    "def count_words(text):\n",
    "    dico = {}\n",
    "    #words = remove_special_characters(text).split()\n",
    "    words = re.findall(r\"[A-Za-z]+\", text)\n",
    "    for word in words:\n",
    "        if word in dico.keys():  \n",
    "            dico[word]= dico[word] + 1\n",
    "        else:\n",
    "            dico[word] = 1\n",
    "            \n",
    "    return dico\n"
   ]
  },
  {
   "cell_type": "code",
   "execution_count": 111,
   "metadata": {},
   "outputs": [],
   "source": [
    "sampel_text = '''\n",
    "Installer git et apprendre à utiliser les bases, a minima : clone, init, pull, status, add, commit, push.\n",
    "Se créer un compte github avec une organisation commune à tout le monde Kit-Big-Data-Telecom-2022-2023 et me rajouter dans l'organisation. Nota bene : une seule organisation pour les 2 Mastères SVP ! Attention pour GitHub il faut une app de double authentification Authy ou l'app github et se créer un token sur le site web à utiliser comme mot de passe sur votre machine.\n",
    "Copie du repo du cours : git clone  https://github.com/fran6w/Kit-Big-Data.git\\nEnsuite\n",
    "Ensuite dans le répertoire cloné, mise à jour depuis le repo du cours : git pull Ne pas modifier la copie locale du repo du cours.\n",
    "Travaillez sur vos projets dans une copie locale de votre repo. Exportez vos modifications sur votre repo GitHub avec les instructions\n",
    "'''"
   ]
  },
  {
   "cell_type": "code",
   "execution_count": null,
   "metadata": {},
   "outputs": [],
   "source": []
  },
  {
   "cell_type": "code",
   "execution_count": 12,
   "metadata": {},
   "outputs": [
    {
     "name": "stdout",
     "output_type": "stream",
     "text": [
      "True\n"
     ]
    }
   ],
   "source": [
    "print(count_words(\"A bon chat bon rat.\") == {'A':1, 'bon':2, 'chat':1, 'rat':1})"
   ]
  },
  {
   "cell_type": "code",
   "execution_count": 13,
   "metadata": {},
   "outputs": [],
   "source": [
    "# tests\n",
    "import unittest\n",
    "\n",
    "text = open(\"alice_in_wonderland.txt\").read()\n",
    "\n",
    "class Session1Test(unittest.TestCase):\n",
    "    \n",
    "    def test_queen(self):\n",
    "        dico = count_words(text)\n",
    "        self.assertEqual(dico[\"Queen\"], 74)\n",
    "        \n",
    "    def test_alice(self):\n",
    "        dico = count_words(text)\n",
    "        self.assertEqual(dico[\"Alice\"], 396)\n",
    "        \n",
    "    def test_rabbit(self):\n",
    "        dico = count_words(text)\n",
    "        self.assertEqual(dico[\"Rabbit\"], 45)"
   ]
  },
  {
   "cell_type": "code",
   "execution_count": 14,
   "metadata": {},
   "outputs": [
    {
     "name": "stderr",
     "output_type": "stream",
     "text": [
      "test_alice (__main__.Session1Test) ... ok\n",
      "test_queen (__main__.Session1Test) ... ok\n",
      "test_rabbit (__main__.Session1Test) ... ok\n",
      "\n",
      "----------------------------------------------------------------------\n",
      "Ran 3 tests in 0.036s\n",
      "\n",
      "OK\n"
     ]
    }
   ],
   "source": [
    "# run tests\n",
    "def run_tests():\n",
    "    test_suite = unittest.makeSuite(Session1Test)\n",
    "    runner = unittest.TextTestRunner(verbosity=2)\n",
    "    runner.run(test_suite)\n",
    "    \n",
    "run_tests()"
   ]
  }
 ],
 "metadata": {
  "kernelspec": {
   "display_name": "Python 3.8.3 ('kit-big-data-env': venv)",
   "language": "python",
   "name": "python3"
  },
  "language_info": {
   "codemirror_mode": {
    "name": "ipython",
    "version": 3
   },
   "file_extension": ".py",
   "mimetype": "text/x-python",
   "name": "python",
   "nbconvert_exporter": "python",
   "pygments_lexer": "ipython3",
   "version": "3.8.3"
  },
  "vscode": {
   "interpreter": {
    "hash": "9b18997f83c6cb6dca945751e4df16f52bc5b46388e1a12ecffb773a89928fb4"
   }
  }
 },
 "nbformat": 4,
 "nbformat_minor": 4
}
