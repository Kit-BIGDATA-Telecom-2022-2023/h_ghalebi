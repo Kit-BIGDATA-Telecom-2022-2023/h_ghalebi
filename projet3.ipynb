{
 "cells": [
  {
   "cell_type": "markdown",
   "metadata": {},
   "source": [
    "# Projet maison n° 3"
   ]
  },
  {
   "cell_type": "code",
   "execution_count": 3,
   "metadata": {},
   "outputs": [],
   "source": [
    "# imports\n",
    "import pandas as pd"
   ]
  },
  {
   "cell_type": "markdown",
   "metadata": {},
   "source": [
    "## 1. US baby names\n",
    "\n",
    "On va s'intéresser au dataset **National data** de la SSA : https://www.ssa.gov/oact/babynames/limits.html\n",
    "\n",
    "1. Télécharger le dataset des prénoms US : https://www.ssa.gov/oact/babynames/names.zip\n",
    "\n",
    "Lire la documentation associée.\n",
    "\n",
    "2. Implémenter une fonction Python `df_names_us()` qui produit un unique DataFrame avec tous les fichiers en utilisant **pandas** (par ex. avec la fonction `pandas.concat()`), pas de bash :)\n",
    "\n",
    "Ordre et noms des colonnes du DataFrame : \"year\", \"name\", \"gender\", \"births\"\n",
    "\n",
    "Le DataFrame doit être trié selon l'année croissante puis selon l'ordre défini dans les différents fichiers (voir la documentation du dataset)."
   ]
  },
  {
   "cell_type": "code",
   "execution_count": 3,
   "metadata": {},
   "outputs": [],
   "source": [
    "import requests\n",
    "import zipfile\n",
    "URL = \"https://www.ssa.gov/oact/babynames/names.zip\"\n",
    "response = requests.get(URL)\n",
    "open(\"name.zip\", \"wb\").write(response.content)\n",
    "\n",
    "\n",
    "with zipfile.ZipFile(\"name.zip\",\"r\") as zip_ref:\n",
    "    zip_ref.extractall(\"./\")"
   ]
  },
  {
   "cell_type": "code",
   "execution_count": null,
   "metadata": {},
   "outputs": [],
   "source": [
    "# names us\n",
    "def df_names_us():\n",
    "    df = pd.DataFrame()\n",
    "    return df"
   ]
  },
  {
   "cell_type": "markdown",
   "metadata": {},
   "source": [
    "## 2. Prénoms français"
   ]
  },
  {
   "cell_type": "markdown",
   "metadata": {},
   "source": [
    "On va s'intéresser au dataset **Fichiers France hors Mayotte** de l'INSEE :  https://www.insee.fr/fr/statistiques/2540004/\n",
    "\n",
    "L'idée est de charger les données et ensuite de les conformer au DataFrame des prénoms US. Ainsi, toute manipulation sur le DataFrame des prénoms US pourra être directement réutilisée avec le DataFrame des prénoms français.\n",
    " \n",
    "1. Télécharger le dataset des prénoms français : https://www.insee.fr/fr/statistiques/fichier/2540004/nat2021_csv.zip\n",
    "\n",
    "\n",
    "Lire la documentation, ça peut être utile...\n",
    " \n",
    "2. Implémenter une fonction `df_names_fr()` qui produit un DataFrame avec les prénoms français en prenant le DataFrame des prénoms US comme modèle :\n",
    " \n",
    " - Même ordre et mêmes noms des colonnes : \"year\", \"name\", \"gender\", \"births\"\n",
    " - Mêmes dtypes pour les colonnes\n",
    " - Mêmes valeurs pour la colonne \"gender\"\n",
    " - Seuls les prénoms de 2 caractères et plus sont conservés\n",
    " - La casse des prénoms doit être identique : initiales en majuscule, autres lettres en minuscule\n",
    " - Les lignes avec des données inutilisables doivent être supprimées\n",
    " - Les données sont triées à l'identique : year (↑), puis gender (↑), puis births (↓) et enfin name (↑)\n",
    " - L'index du DataFrame doit aller de 0 à N-1"
   ]
  },
  {
   "cell_type": "code",
   "execution_count": 4,
   "metadata": {},
   "outputs": [
    {
     "data": {
      "text/plain": [
       "False"
      ]
     },
     "execution_count": 4,
     "metadata": {},
     "output_type": "execute_result"
    }
   ],
   "source": [
    "import zipfile\n",
    "\n",
    "import requests\n",
    "\n",
    "def download_data(url, filename):\n",
    "    try:\n",
    "        response = requests.get(url)\n",
    "        open(filename, \"wb\").write(response.content)\n",
    "        return True\n",
    "    except:\n",
    "        return False\n",
    "\n",
    "def unzip_data(filename):\n",
    "    try:\n",
    "        with zipfile.ZipFile(filename,\"r\") as zip_ref:\n",
    "            zip_ref.extractall(\"./data/\")\n",
    "        return True\n",
    "    except:\n",
    "        return False\n",
    "\n",
    "\n",
    "URL = \"https://www.ssa.gov/oact/babynames/names.zip\"\n",
    "response = requests.get(URL)\n",
    "open(\"us_name.zip\", \"wb\").write(response.content)\n",
    "\n",
    "\n",
    "with zipfile.ZipFile(\"us_name.zip\",\"r\") as zip_ref:\n",
    "    zip_ref.extractall(r\"./data/us_name\")\n",
    "    \n",
    "\n",
    "french_data_url = \"https://www.insee.fr/fr/statistiques/fichier/2540004/nat2021_csv.zip\"\n",
    "\n",
    "download_data(french_data_url, \"french_name.zip\")\n",
    "unzip_data(\"french_name.zip\")"
   ]
  },
  {
   "cell_type": "code",
   "execution_count": 5,
   "metadata": {},
   "outputs": [],
   "source": [
    "from os import listdir\n",
    "from os.path import isfile, join\n",
    "\n",
    "def list_file(path = \"./data/us_name\"):\n",
    "    \n",
    "    us_name_path = path\n",
    "    files = [f for f in listdir(us_name_path) if isfile(join(us_name_path, f))]\n",
    "\n",
    "    return files"
   ]
  },
  {
   "cell_type": "code",
   "execution_count": 63,
   "metadata": {},
   "outputs": [],
   "source": [
    "\n",
    "from cmath import nan\n",
    "from unicodedata import name\n",
    "from jack import Status\n",
    "from nbformat import read\n",
    "import pandas as pd\n",
    "import re\n",
    "\n",
    "from sqlalchemy import null\n",
    "def read_files(file_name, us_name_path):\n",
    "    year =re.findall(r'\\d+', file_name)\n",
    "    try:\n",
    "        df = pd.read_csv(us_name_path+'/'+ file_name, sep=\",\",on_bad_lines='skip')\n",
    "        df.columns = ['name', 'gender', 'births']\n",
    "        \n",
    "    \n",
    "        \n",
    "        df['year'] = year * len(df)\n",
    "        \n",
    "        return df , True\n",
    "    except:\n",
    "        data = {'name': None, 'gender': None, 'births': None, 'year': year}\n",
    "        return pd.DataFrame(data) , False\n",
    "\n",
    "\n",
    "\n",
    "def df_names_us(path = r\"./data/us_name\", columns_order = [\"year\", \"name\", \"gender\", \"births\"]):\n",
    "    total= pd.DataFrame()\n",
    "\n",
    "\n",
    "    for file in list_file(path=path):\n",
    "        data,Status = read_files(file, path)\n",
    "        total = pd.concat([total, data], axis=0)\n",
    "\n",
    "    total = remove_short_name(df=total, min_length=2)\n",
    "    total = column_capitalize(total, col=\"name\")\n",
    "    \n",
    "    total = total.dropna()\n",
    "\n",
    "    total =total.reset_index(drop=True)\n",
    "    \n",
    "        #  - Mêmes dtypes pour les colonnes\n",
    "    total ['year'] = pd.to_datetime (total ['year'] )\n",
    "    total ['births'] = pd.to_numeric (total ['births'] )\n",
    "    \n",
    "    total = total.sort_values(by=['year', 'gender', 'births','name'],\n",
    "               ascending=[False, False, True,False])\n",
    "    total =total.reset_index(drop=True)\n",
    "    return total [columns_order]\n",
    "\n",
    "\n",
    "\n",
    "def remove_short_name(df, min_length = 2):\n",
    "    df = df[df.name.str.len() >= min_length]\n",
    "    return df\n",
    "\n",
    "def column_capitalize(datafram ,col = \"name\"):\n",
    "    datafram[col] = datafram[col].str.capitalize()\n",
    "    return datafram\n",
    "\n",
    "# df1 = read_files(onlyfiles[0], us_name_path)\n",
    "# df2 = read_files(onlyfiles[1], us_name_path)\n",
    "# df3 = read_files(onlyfiles[2], us_name_path)\n",
    "# all_row_pd = pd.concat([df1, df2, df3], axis=0)\n",
    "# all_row_pd\n",
    "\n",
    "us_data = df_names_us()"
   ]
  },
  {
   "cell_type": "code",
   "execution_count": 64,
   "metadata": {},
   "outputs": [
    {
     "data": {
      "text/html": [
       "<div>\n",
       "<style scoped>\n",
       "    .dataframe tbody tr th:only-of-type {\n",
       "        vertical-align: middle;\n",
       "    }\n",
       "\n",
       "    .dataframe tbody tr th {\n",
       "        vertical-align: top;\n",
       "    }\n",
       "\n",
       "    .dataframe thead th {\n",
       "        text-align: right;\n",
       "    }\n",
       "</style>\n",
       "<table border=\"1\" class=\"dataframe\">\n",
       "  <thead>\n",
       "    <tr style=\"text-align: right;\">\n",
       "      <th></th>\n",
       "      <th>year</th>\n",
       "      <th>name</th>\n",
       "      <th>gender</th>\n",
       "      <th>births</th>\n",
       "    </tr>\n",
       "  </thead>\n",
       "  <tbody>\n",
       "    <tr>\n",
       "      <th>0</th>\n",
       "      <td>2021-01-01</td>\n",
       "      <td>Zyn</td>\n",
       "      <td>M</td>\n",
       "      <td>5</td>\n",
       "    </tr>\n",
       "    <tr>\n",
       "      <th>1</th>\n",
       "      <td>2021-01-01</td>\n",
       "      <td>Zylar</td>\n",
       "      <td>M</td>\n",
       "      <td>5</td>\n",
       "    </tr>\n",
       "    <tr>\n",
       "      <th>2</th>\n",
       "      <td>2021-01-01</td>\n",
       "      <td>Zyian</td>\n",
       "      <td>M</td>\n",
       "      <td>5</td>\n",
       "    </tr>\n",
       "    <tr>\n",
       "      <th>3</th>\n",
       "      <td>2021-01-01</td>\n",
       "      <td>Zyel</td>\n",
       "      <td>M</td>\n",
       "      <td>5</td>\n",
       "    </tr>\n",
       "    <tr>\n",
       "      <th>4</th>\n",
       "      <td>2021-01-01</td>\n",
       "      <td>Zyeire</td>\n",
       "      <td>M</td>\n",
       "      <td>5</td>\n",
       "    </tr>\n",
       "    <tr>\n",
       "      <th>...</th>\n",
       "      <td>...</td>\n",
       "      <td>...</td>\n",
       "      <td>...</td>\n",
       "      <td>...</td>\n",
       "    </tr>\n",
       "    <tr>\n",
       "      <th>2052634</th>\n",
       "      <td>1880-01-01</td>\n",
       "      <td>Margaret</td>\n",
       "      <td>F</td>\n",
       "      <td>1578</td>\n",
       "    </tr>\n",
       "    <tr>\n",
       "      <th>2052635</th>\n",
       "      <td>1880-01-01</td>\n",
       "      <td>Minnie</td>\n",
       "      <td>F</td>\n",
       "      <td>1746</td>\n",
       "    </tr>\n",
       "    <tr>\n",
       "      <th>2052636</th>\n",
       "      <td>1880-01-01</td>\n",
       "      <td>Elizabeth</td>\n",
       "      <td>F</td>\n",
       "      <td>1939</td>\n",
       "    </tr>\n",
       "    <tr>\n",
       "      <th>2052637</th>\n",
       "      <td>1880-01-01</td>\n",
       "      <td>Emma</td>\n",
       "      <td>F</td>\n",
       "      <td>2003</td>\n",
       "    </tr>\n",
       "    <tr>\n",
       "      <th>2052638</th>\n",
       "      <td>1880-01-01</td>\n",
       "      <td>Anna</td>\n",
       "      <td>F</td>\n",
       "      <td>2604</td>\n",
       "    </tr>\n",
       "  </tbody>\n",
       "</table>\n",
       "<p>2052639 rows × 4 columns</p>\n",
       "</div>"
      ],
      "text/plain": [
       "              year       name gender  births\n",
       "0       2021-01-01        Zyn      M       5\n",
       "1       2021-01-01      Zylar      M       5\n",
       "2       2021-01-01      Zyian      M       5\n",
       "3       2021-01-01       Zyel      M       5\n",
       "4       2021-01-01     Zyeire      M       5\n",
       "...            ...        ...    ...     ...\n",
       "2052634 1880-01-01   Margaret      F    1578\n",
       "2052635 1880-01-01     Minnie      F    1746\n",
       "2052636 1880-01-01  Elizabeth      F    1939\n",
       "2052637 1880-01-01       Emma      F    2003\n",
       "2052638 1880-01-01       Anna      F    2604\n",
       "\n",
       "[2052639 rows x 4 columns]"
      ]
     },
     "execution_count": 64,
     "metadata": {},
     "output_type": "execute_result"
    }
   ],
   "source": [
    "us_data"
   ]
  },
  {
   "cell_type": "code",
   "execution_count": 75,
   "metadata": {},
   "outputs": [],
   "source": [
    "# names fr\n",
    "\n",
    "\n",
    "\n",
    "def df_names_fr():\n",
    "    \n",
    "    french_data = pd.read_csv(r\"./data/french_name/nat2021.csv\",  sep = ';',on_bad_lines='skip')\n",
    "\n",
    "    # - Même ordre et mêmes noms des colonnes : \"year\", \"name\", \"gender\", \"births\"\n",
    "    french_data = french_data.rename({'preusuel': 'name', 'annais': 'year', 'sexe':'gender', 'nombre': 'births'}, axis='columns')\n",
    "\n",
    "\n",
    "    columns_order = [\"year\", \"name\", \"gender\", \"births\"]\n",
    "    french_data = french_data [columns_order]\n",
    "\n",
    "\n",
    "\n",
    "\n",
    "    #  - Mêmes valeurs pour la colonne \"gender\"\n",
    "    def convert_gender_label(number):\n",
    "        if number == 1:\n",
    "            return \"M\"\n",
    "        else:\n",
    "            return \"F\"\n",
    "\n",
    "\n",
    "    french_data['gender'] = french_data ['gender'].apply(convert_gender_label)\n",
    "\n",
    "    #  - Seuls les prénoms de 2 caractères et plus sont conservés\n",
    "    french_data = remove_short_name(df=french_data, min_length=2)\n",
    "\n",
    "    #  - La casse des prénoms doit être identique : initiales en majuscule, autres lettres en minuscule\n",
    "    french_data = column_capitalize(french_data, col=\"name\")\n",
    "\n",
    "    #french_data['year'].unique() . I used this  to find out if there is any year that is not number\n",
    "    #  - Les lignes avec des données inutilisables doivent être supprimées\n",
    "\n",
    "    none_accepted_year_format = ['XXXX'] \n",
    "    none_accepted_name_format = ['Inconnu', 'Inconnue','_PRENOMS_RARES','_prenoms_rares'] \n",
    "    damaged_year_data = french_data['year'].isin(none_accepted_year_format) #\n",
    "    damaged_name_data = french_data['name'].isin(none_accepted_name_format)\n",
    "    french_data = french_data [~damaged_year_data]\n",
    "    french_data = french_data [~damaged_name_data]\n",
    "\n",
    "    french_data = french_data.dropna()\n",
    "\n",
    "\n",
    "\n",
    "\n",
    "\n",
    "    #  - Mêmes dtypes pour les colonnes\n",
    "    french_data['year'] = pd.to_datetime(french_data['year'] )\n",
    "\n",
    "    french_data['births'] = pd.to_numeric(french_data['births'] )\n",
    "\n",
    "\n",
    "\n",
    "\n",
    "\n",
    "    #Les données sont triées à l'identique : year (↑), puis gender (↑), puis births (↓) et enfin name (↑)\n",
    "    french_data = french_data.sort_values(by=['year', 'gender', 'births','name'],\n",
    "                ascending=[False, False, True,False])\n",
    "\n",
    "    # - L'index du DataFrame doit aller de 0 à N-1\n",
    "    french_data =french_data.reset_index(drop=True)\n",
    "    return french_data"
   ]
  },
  {
   "cell_type": "code",
   "execution_count": 53,
   "metadata": {},
   "outputs": [
    {
     "data": {
      "text/plain": [
       "year      object\n",
       "name      object\n",
       "gender    object\n",
       "births    object\n",
       "dtype: object"
      ]
     },
     "execution_count": 53,
     "metadata": {},
     "output_type": "execute_result"
    }
   ],
   "source": [
    "us_data.dtypes"
   ]
  },
  {
   "cell_type": "code",
   "execution_count": 52,
   "metadata": {},
   "outputs": [
    {
     "data": {
      "text/plain": [
       "year      object\n",
       "name      object\n",
       "gender    object\n",
       "births     int64\n",
       "dtype: object"
      ]
     },
     "execution_count": 52,
     "metadata": {},
     "output_type": "execute_result"
    }
   ],
   "source": [
    "french_data.dtypes"
   ]
  },
  {
   "cell_type": "code",
   "execution_count": 57,
   "metadata": {},
   "outputs": [],
   "source": []
  },
  {
   "cell_type": "code",
   "execution_count": 58,
   "metadata": {},
   "outputs": [
    {
     "data": {
      "text/plain": [
       "year      True\n",
       "name      True\n",
       "gender    True\n",
       "births    True\n",
       "dtype: bool"
      ]
     },
     "execution_count": 58,
     "metadata": {},
     "output_type": "execute_result"
    }
   ],
   "source": [
    "us_data.dtypes == french_data.dtypes"
   ]
  },
  {
   "cell_type": "markdown",
   "metadata": {},
   "source": [
    "## 3. Taux de change\n",
    "\n",
    "On va s'intéresser au dataset des cours des devises de la Banque de France :  http://webstat.banque-france.fr/fr/browseBox.do?node=5385566\n",
    "\n",
    "Les données sont dans le fichier \"Webstat_Export.csv\".\n",
    "\n",
    "L'idée est de charger les données, de les nettoyer et de pouvoir accéder aux cours de certaines devises à partir de leur code ISO3. On retiendra uniquement les colonnes se terminant effectivement par un code ISO3 entre parenthèses. Par ex., \"Dollar des Etats-Unis (USD)\".\n",
    "\n",
    "Implémenter une fonction `df_taux_change()` qui produit un DataFrame avec les taux de change par date pour une liste de codes ISO3 de devises passée en argument. L'index du DataFrame doit correspondre aux dates (voir la fonction `pd.to_datetime()` avec le format`\"%d/%m/%Y\"`) et doit être trié par ordre croissant. Les colonnes du DataFrame doivent correspondre aux devises sélectionnées."
   ]
  },
  {
   "cell_type": "code",
   "execution_count": 126,
   "metadata": {},
   "outputs": [
    {
     "data": {
      "text/html": [
       "<div>\n",
       "<style scoped>\n",
       "    .dataframe tbody tr th:only-of-type {\n",
       "        vertical-align: middle;\n",
       "    }\n",
       "\n",
       "    .dataframe tbody tr th {\n",
       "        vertical-align: top;\n",
       "    }\n",
       "\n",
       "    .dataframe thead th {\n",
       "        text-align: right;\n",
       "    }\n",
       "</style>\n",
       "<table border=\"1\" class=\"dataframe\">\n",
       "  <thead>\n",
       "    <tr style=\"text-align: right;\">\n",
       "      <th></th>\n",
       "      <th>Titre :</th>\n",
       "      <th>Cours de l'or contre euro - 1er fixing à Londres</th>\n",
       "      <th>Cours de l'or contre dollar - 1er fixing à Londres</th>\n",
       "    </tr>\n",
       "  </thead>\n",
       "  <tbody>\n",
       "    <tr>\n",
       "      <th>5</th>\n",
       "      <td>27/09/2022</td>\n",
       "      <td>1696,76</td>\n",
       "      <td>1632,6</td>\n",
       "    </tr>\n",
       "    <tr>\n",
       "      <th>6</th>\n",
       "      <td>26/09/2022</td>\n",
       "      <td>1700,86</td>\n",
       "      <td>1647</td>\n",
       "    </tr>\n",
       "    <tr>\n",
       "      <th>7</th>\n",
       "      <td>25/09/2022</td>\n",
       "      <td>-</td>\n",
       "      <td>-</td>\n",
       "    </tr>\n",
       "    <tr>\n",
       "      <th>8</th>\n",
       "      <td>24/09/2022</td>\n",
       "      <td>-</td>\n",
       "      <td>-</td>\n",
       "    </tr>\n",
       "    <tr>\n",
       "      <th>9</th>\n",
       "      <td>23/09/2022</td>\n",
       "      <td>1703,48</td>\n",
       "      <td>1661,45</td>\n",
       "    </tr>\n",
       "    <tr>\n",
       "      <th>10</th>\n",
       "      <td>22/09/2022</td>\n",
       "      <td>1692,92</td>\n",
       "      <td>1671,85</td>\n",
       "    </tr>\n",
       "    <tr>\n",
       "      <th>11</th>\n",
       "      <td>21/09/2022</td>\n",
       "      <td>1687,68</td>\n",
       "      <td>1674,45</td>\n",
       "    </tr>\n",
       "    <tr>\n",
       "      <th>12</th>\n",
       "      <td>20/09/2022</td>\n",
       "      <td>1665,56</td>\n",
       "      <td>1667,9</td>\n",
       "    </tr>\n",
       "    <tr>\n",
       "      <th>13</th>\n",
       "      <td>19/09/2022</td>\n",
       "      <td>-</td>\n",
       "      <td>-</td>\n",
       "    </tr>\n",
       "    <tr>\n",
       "      <th>14</th>\n",
       "      <td>18/09/2022</td>\n",
       "      <td>-</td>\n",
       "      <td>-</td>\n",
       "    </tr>\n",
       "    <tr>\n",
       "      <th>15</th>\n",
       "      <td>17/09/2022</td>\n",
       "      <td>-</td>\n",
       "      <td>-</td>\n",
       "    </tr>\n",
       "    <tr>\n",
       "      <th>16</th>\n",
       "      <td>16/09/2022</td>\n",
       "      <td>1666,96</td>\n",
       "      <td>1664,3</td>\n",
       "    </tr>\n",
       "    <tr>\n",
       "      <th>17</th>\n",
       "      <td>15/09/2022</td>\n",
       "      <td>1690,01</td>\n",
       "      <td>1689</td>\n",
       "    </tr>\n",
       "    <tr>\n",
       "      <th>18</th>\n",
       "      <td>14/09/2022</td>\n",
       "      <td>1702,78</td>\n",
       "      <td>1703,8</td>\n",
       "    </tr>\n",
       "    <tr>\n",
       "      <th>19</th>\n",
       "      <td>13/09/2022</td>\n",
       "      <td>1699,94</td>\n",
       "      <td>1727,05</td>\n",
       "    </tr>\n",
       "    <tr>\n",
       "      <th>20</th>\n",
       "      <td>12/09/2022</td>\n",
       "      <td>1698,01</td>\n",
       "      <td>1726,5</td>\n",
       "    </tr>\n",
       "    <tr>\n",
       "      <th>21</th>\n",
       "      <td>11/09/2022</td>\n",
       "      <td>-</td>\n",
       "      <td>-</td>\n",
       "    </tr>\n",
       "    <tr>\n",
       "      <th>22</th>\n",
       "      <td>10/09/2022</td>\n",
       "      <td>-</td>\n",
       "      <td>-</td>\n",
       "    </tr>\n",
       "    <tr>\n",
       "      <th>23</th>\n",
       "      <td>09/09/2022</td>\n",
       "      <td>1711,58</td>\n",
       "      <td>1726,95</td>\n",
       "    </tr>\n",
       "    <tr>\n",
       "      <th>24</th>\n",
       "      <td>08/09/2022</td>\n",
       "      <td>1720,42</td>\n",
       "      <td>1720,25</td>\n",
       "    </tr>\n",
       "  </tbody>\n",
       "</table>\n",
       "</div>"
      ],
      "text/plain": [
       "       Titre : Cours de l'or contre euro - 1er fixing à Londres  \\\n",
       "5   27/09/2022                                          1696,76   \n",
       "6   26/09/2022                                          1700,86   \n",
       "7   25/09/2022                                                -   \n",
       "8   24/09/2022                                                -   \n",
       "9   23/09/2022                                          1703,48   \n",
       "10  22/09/2022                                          1692,92   \n",
       "11  21/09/2022                                          1687,68   \n",
       "12  20/09/2022                                          1665,56   \n",
       "13  19/09/2022                                                -   \n",
       "14  18/09/2022                                                -   \n",
       "15  17/09/2022                                                -   \n",
       "16  16/09/2022                                          1666,96   \n",
       "17  15/09/2022                                          1690,01   \n",
       "18  14/09/2022                                          1702,78   \n",
       "19  13/09/2022                                          1699,94   \n",
       "20  12/09/2022                                          1698,01   \n",
       "21  11/09/2022                                                -   \n",
       "22  10/09/2022                                                -   \n",
       "23  09/09/2022                                          1711,58   \n",
       "24  08/09/2022                                          1720,42   \n",
       "\n",
       "   Cours de l'or contre dollar - 1er fixing à Londres  \n",
       "5                                              1632,6  \n",
       "6                                                1647  \n",
       "7                                                   -  \n",
       "8                                                   -  \n",
       "9                                             1661,45  \n",
       "10                                            1671,85  \n",
       "11                                            1674,45  \n",
       "12                                             1667,9  \n",
       "13                                                  -  \n",
       "14                                                  -  \n",
       "15                                                  -  \n",
       "16                                             1664,3  \n",
       "17                                               1689  \n",
       "18                                             1703,8  \n",
       "19                                            1727,05  \n",
       "20                                             1726,5  \n",
       "21                                                  -  \n",
       "22                                                  -  \n",
       "23                                            1726,95  \n",
       "24                                            1720,25  "
      ]
     },
     "execution_count": 126,
     "metadata": {},
     "output_type": "execute_result"
    }
   ],
   "source": [
    "# taux de change\n",
    "\n",
    "\n",
    "us_dollar_data_file = r'./data/us_doller_data/Webstat_Export_20220928.csv'\n",
    "\n",
    "us_dollar_data = pd.read_csv(us_dollar_data_file, sep=';', on_bad_lines='skip')\n",
    "us_dollar_data = us_dollar_data.iloc[5:]\n",
    "\n",
    "us_dollar_data.head(20)\n",
    "\n",
    "\n"
   ]
  },
  {
   "cell_type": "code",
   "execution_count": 87,
   "metadata": {},
   "outputs": [
    {
     "name": "stderr",
     "output_type": "stream",
     "text": [
      "/tmp/ipykernel_70303/4189371360.py:1: UserWarning: Parsing dates in DD/MM/YYYY format when dayfirst=False (the default) was specified. This may lead to inconsistently parsed dates! Specify a format to ensure consistent parsing.\n",
      "  us_dollar_data.iloc[:, 0] = pd.to_datetime(us_dollar_data.iloc[:, 0])\n",
      "/tmp/ipykernel_70303/4189371360.py:1: FutureWarning: In a future version, `df.iloc[:, i] = newvals` will attempt to set the values inplace instead of always setting a new array. To retain the old behavior, use either `df[df.columns[i]] = newvals` or, if columns are non-unique, `df.isetitem(i, newvals)`\n",
      "  us_dollar_data.iloc[:, 0] = pd.to_datetime(us_dollar_data.iloc[:, 0])\n"
     ]
    }
   ],
   "source": [
    "us_dollar_data.iloc[:, 0] = pd.to_datetime(us_dollar_data.iloc[:, 0])\n"
   ]
  },
  {
   "cell_type": "code",
   "execution_count": 149,
   "metadata": {},
   "outputs": [],
   "source": [
    "def read_curency_data():\n",
    "\n",
    "    us_dollar_data_file = r'./data/us_doller_data/Webstat_Export_20220928.csv'\n",
    "\n",
    "    us_dollar_data = pd.read_csv(us_dollar_data_file, sep=';', on_bad_lines='skip')\n",
    "    us_dollar_data = us_dollar_data.iloc[5:]\n",
    "\n",
    "    us_dollar_data.head(20)\n",
    "\n",
    "    #us_dollar_data = us_dollar_data.dropna()\n",
    "\n",
    "    us_dollar_data['date'] = us_dollar_data.iloc[:, 0]\n",
    "    us_dollar_data['date'] =  pd.to_datetime(us_dollar_data['date'],  format='%d/%m/%Y')\n",
    "\n",
    "    us_dollar_data['EUR'] = us_dollar_data.iloc[:, 1]\n",
    "    us_dollar_data['EUR'] =us_dollar_data['EUR'].apply(lambda x: x.replace(',', '.'))\n",
    "    us_dollar_data['EUR'] =us_dollar_data['EUR'].apply(lambda x: x.replace('-', ''))\n",
    "    us_dollar_data['EUR'] = pd.to_numeric(us_dollar_data['EUR'])\n",
    "\n",
    "    us_dollar_data['USD'] = us_dollar_data.iloc[:, 2]\n",
    "    us_dollar_data['USD'] =us_dollar_data['USD'].apply(lambda x: x.replace(',', '.'))\n",
    "    us_dollar_data['USD'] =us_dollar_data['USD'].apply(lambda x: x.replace('-', ''))\n",
    "    us_dollar_data['USD'] = pd.to_numeric(us_dollar_data['USD'])\n",
    "\n",
    "    us_dollar_data = us_dollar_data[['date', 'EUR', 'USD']]\n",
    "    us_dollar_data = us_dollar_data.dropna()\n",
    "    us_dollar_data =  us_dollar_data.reset_index(drop=True)\n",
    "    \n",
    "    return us_dollar_data\n",
    "\n",
    "\n",
    "def df_taux_change(date = datetime(2016, 3, 1), currency = 'EUR'):\n",
    "    \n",
    "    if isinstance(date, datetime):\n",
    "        currency_data = read_curency_data()\n",
    "        values = currency_data[us_dollar_data['date'] == date][currency].tolist()\n",
    "        \n",
    "    else:\n",
    "        raise NameError('Your should use datatime format for the date')"
   ]
  },
  {
   "cell_type": "code",
   "execution_count": 151,
   "metadata": {},
   "outputs": [
    {
     "name": "stdout",
     "output_type": "stream",
     "text": [
      "None\n"
     ]
    }
   ],
   "source": []
  },
  {
   "cell_type": "code",
   "execution_count": 145,
   "metadata": {},
   "outputs": [
    {
     "data": {
      "text/plain": [
       "[1141.7]"
      ]
     },
     "execution_count": 145,
     "metadata": {},
     "output_type": "execute_result"
    }
   ],
   "source": [
    "from datetime import datetime\n",
    "#a_date = datetime.strptime('2022-09-22', format=\"%d/%m/%Y\")\n",
    "a_date = datetime(2016, 3, 1)\n",
    "type (a_date)\n",
    "values = us_dollar_data[us_dollar_data['date'] == a_date]['EUR'].tolist()\n",
    "values"
   ]
  },
  {
   "cell_type": "code",
   "execution_count": 148,
   "metadata": {},
   "outputs": [
    {
     "data": {
      "text/plain": [
       "True"
      ]
     },
     "execution_count": 148,
     "metadata": {},
     "output_type": "execute_result"
    }
   ],
   "source": [
    "isinstance(a_date, datetime)"
   ]
  },
  {
   "cell_type": "markdown",
   "metadata": {},
   "source": [
    "### Tests"
   ]
  },
  {
   "cell_type": "code",
   "execution_count": 65,
   "metadata": {},
   "outputs": [],
   "source": [
    "import unittest\n",
    "\n",
    "class Session3Tests(unittest.TestCase):\n",
    "    def test_df_names_us(self):\n",
    "        df = df_names_us()\n",
    "        # colonnes\n",
    "        self.assertEqual(list(df.columns), [\"year\", \"name\", \"gender\", \"births\"])\n",
    "        # lignes\n",
    "        self.assertEqual(len(df), 2052781)\n",
    "        # index\n",
    "        self.assertTrue(isinstance(df.index, pd.core.indexes.range.RangeIndex))\n",
    "        # test NaN\n",
    "        self.assertTrue(df.loc[df.isnull().any(axis=1)].empty)\n",
    "        \n",
    "    def test_df_names_fr(self):\n",
    "        df = df_names_fr()\n",
    "        # colonnes\n",
    "        self.assertEqual(list(df.columns), [\"year\", \"name\", \"gender\", \"births\"])\n",
    "        # lignes\n",
    "        self.assertEqual(len(df), 648330)\n",
    "        # index\n",
    "        self.assertTrue(isinstance(df.index, pd.RangeIndex))\n",
    "        # test names\n",
    "        self.assertTrue(df.loc[df.name.str.contains(r\"^[A-Z]+$\")].empty)\n",
    "        self.assertTrue(df.loc[df.name.str.contains(r\"-[a-z]+$\")].empty)\n",
    "        # test gender\n",
    "        self.assertEqual(len(df), len(df.loc[df.gender==\"F\"]) + len(df.loc[df.gender=='M']))\n",
    "        # test NaN\n",
    "        self.assertTrue(df.loc[df.isnull().any(axis=1)].empty)\n",
    "\n",
    "    def test_df_taux_change(self):\n",
    "        df = df_taux_change([\"CHF\", \"GBP\", \"USD\"])\n",
    "        # colonnes\n",
    "        self.assertEqual(list(df.columns), [\"CHF\", \"GBP\", \"USD\"])\n",
    "        # index\n",
    "        self.assertTrue(isinstance(df.index, pd.DatetimeIndex))\n",
    "        # index trié\n",
    "        self.assertEqual(list(df.index.argsort()), list(range(len(df))))\n",
    "        # types taux\n",
    "        self.assertTrue((df.dtypes == float).all())\n",
    "        # test NaN\n",
    "        self.assertTrue(df.loc[df.isnull().any(axis=1)].empty)"
   ]
  },
  {
   "cell_type": "code",
   "execution_count": 66,
   "metadata": {},
   "outputs": [],
   "source": [
    "# run tests\n",
    "def run_tests():\n",
    "    test_suite = unittest.makeSuite(Session3Tests)\n",
    "    runner = unittest.TextTestRunner(verbosity=2)\n",
    "    runner.run(test_suite)"
   ]
  },
  {
   "cell_type": "code",
   "execution_count": 152,
   "metadata": {},
   "outputs": [
    {
     "name": "stderr",
     "output_type": "stream",
     "text": [
      "test_df_names_fr (__main__.Session3Tests) ... /tmp/ipykernel_70303/3818696156.py:43: UserWarning: Boolean Series key will be reindexed to match DataFrame index.\n",
      "  french_data = french_data [~damaged_name_data]\n",
      "FAIL\n",
      "test_df_names_us (__main__.Session3Tests) ... "
     ]
    }
   ],
   "source": [
    "# run tests\n",
    "run_tests()"
   ]
  }
 ],
 "metadata": {
  "kernelspec": {
   "display_name": "Python 3.10.6 64-bit",
   "language": "python",
   "name": "python3"
  },
  "language_info": {
   "codemirror_mode": {
    "name": "ipython",
    "version": 3
   },
   "file_extension": ".py",
   "mimetype": "text/x-python",
   "name": "python",
   "nbconvert_exporter": "python",
   "pygments_lexer": "ipython3",
   "version": "3.10.6"
  },
  "vscode": {
   "interpreter": {
    "hash": "916dbcbb3f70747c44a77c7bcd40155683ae19c65e1c03b4aa3499c5328201f1"
   }
  }
 },
 "nbformat": 4,
 "nbformat_minor": 4
}
