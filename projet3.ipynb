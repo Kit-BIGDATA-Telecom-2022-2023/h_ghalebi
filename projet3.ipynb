{
 "cells": [
  {
   "cell_type": "markdown",
   "metadata": {},
   "source": [
    "# Projet maison n° 3"
   ]
  },
  {
   "cell_type": "code",
   "execution_count": 39,
   "metadata": {},
   "outputs": [],
   "source": [
    "# imports\n",
    "import pandas as pd"
   ]
  },
  {
   "cell_type": "markdown",
   "metadata": {},
   "source": [
    "## 1. US baby names\n",
    "\n",
    "On va s'intéresser au dataset **National data** de la SSA : https://www.ssa.gov/oact/babynames/limits.html\n",
    "\n",
    "1. Télécharger le dataset des prénoms US : https://www.ssa.gov/oact/babynames/names.zip\n",
    "\n",
    "Lire la documentation associée.\n",
    "\n",
    "2. Implémenter une fonction Python `df_names_us()` qui produit un unique DataFrame avec tous les fichiers en utilisant **pandas** (par ex. avec la fonction `pandas.concat()`), pas de bash :)\n",
    "\n",
    "Ordre et noms des colonnes du DataFrame : \"year\", \"name\", \"gender\", \"births\"\n",
    "\n",
    "Le DataFrame doit être trié selon l'année croissante puis selon l'ordre défini dans les différents fichiers (voir la documentation du dataset)."
   ]
  },
  {
   "cell_type": "code",
   "execution_count": 40,
   "metadata": {},
   "outputs": [],
   "source": [
    "import requests\n",
    "import zipfile\n",
    "URL = \"https://www.ssa.gov/oact/babynames/names.zip\"\n",
    "response = requests.get(URL)\n",
    "open(\"name.zip\", \"wb\").write(response.content)\n",
    "\n",
    "\n",
    "with zipfile.ZipFile(\"name.zip\",\"r\") as zip_ref:\n",
    "    zip_ref.extractall(\"./\")"
   ]
  },
  {
   "cell_type": "code",
   "execution_count": 41,
   "metadata": {},
   "outputs": [],
   "source": [
    "# names us\n",
    "def df_names_us():\n",
    "    df = pd.DataFrame()\n",
    "    return df"
   ]
  },
  {
   "cell_type": "markdown",
   "metadata": {},
   "source": [
    "## 2. Prénoms français"
   ]
  },
  {
   "cell_type": "markdown",
   "metadata": {},
   "source": [
    "On va s'intéresser au dataset **Fichiers France hors Mayotte** de l'INSEE :  https://www.insee.fr/fr/statistiques/2540004/\n",
    "\n",
    "L'idée est de charger les données et ensuite de les conformer au DataFrame des prénoms US. Ainsi, toute manipulation sur le DataFrame des prénoms US pourra être directement réutilisée avec le DataFrame des prénoms français.\n",
    " \n",
    "1. Télécharger le dataset des prénoms français : https://www.insee.fr/fr/statistiques/fichier/2540004/nat2021_csv.zip\n",
    "\n",
    "\n",
    "Lire la documentation, ça peut être utile...\n",
    " \n",
    "2. Implémenter une fonction `df_names_fr()` qui produit un DataFrame avec les prénoms français en prenant le DataFrame des prénoms US comme modèle :\n",
    " \n",
    " - Même ordre et mêmes noms des colonnes : \"year\", \"name\", \"gender\", \"births\"\n",
    " - Mêmes dtypes pour les colonnes\n",
    " - Mêmes valeurs pour la colonne \"gender\"\n",
    " - Seuls les prénoms de 2 caractères et plus sont conservés\n",
    " - La casse des prénoms doit être identique : initiales en majuscule, autres lettres en minuscule\n",
    " - Les lignes avec des données inutilisables doivent être supprimées\n",
    " - Les données sont triées à l'identique : year (↑), puis gender (↑), puis births (↓) et enfin name (↑)\n",
    " - L'index du DataFrame doit aller de 0 à N-1"
   ]
  },
  {
   "cell_type": "code",
   "execution_count": 42,
   "metadata": {},
   "outputs": [
    {
     "data": {
      "text/plain": [
       "False"
      ]
     },
     "execution_count": 42,
     "metadata": {},
     "output_type": "execute_result"
    }
   ],
   "source": [
    "import zipfile\n",
    "\n",
    "import requests\n",
    "\n",
    "def download_data(url, filename):\n",
    "    try:\n",
    "        response = requests.get(url)\n",
    "        open(filename, \"wb\").write(response.content)\n",
    "        return True\n",
    "    except:\n",
    "        return False\n",
    "\n",
    "def unzip_data(filename):\n",
    "    try:\n",
    "        with zipfile.ZipFile(filename,\"r\") as zip_ref:\n",
    "            zip_ref.extractall(\"./data/\")\n",
    "        return True\n",
    "    except:\n",
    "        return False\n",
    "\n",
    "\n",
    "URL = \"https://www.ssa.gov/oact/babynames/names.zip\"\n",
    "response = requests.get(URL)\n",
    "open(\"us_name.zip\", \"wb\").write(response.content)\n",
    "\n",
    "\n",
    "with zipfile.ZipFile(\"us_name.zip\",\"r\") as zip_ref:\n",
    "    zip_ref.extractall(r\"./data/us_name\")\n",
    "    \n",
    "\n",
    "french_data_url = \"https://www.insee.fr/fr/statistiques/fichier/2540004/nat2021_csv.zip\"\n",
    "\n",
    "download_data(french_data_url, \"french_name.zip\")\n",
    "unzip_data(\"french_name.zip\")"
   ]
  },
  {
   "cell_type": "code",
   "execution_count": 2,
   "metadata": {},
   "outputs": [
    {
     "data": {
      "text/plain": [
       "143"
      ]
     },
     "execution_count": 2,
     "metadata": {},
     "output_type": "execute_result"
    }
   ],
   "source": [
    "from os import listdir\n",
    "from os.path import isfile, join\n",
    "\n",
    "def list_file(path = \"./data/us_name\"):\n",
    "    \n",
    "    us_name_path = path\n",
    "    files = [f for f in listdir(us_name_path) if isfile(join(us_name_path, f))]\n",
    "\n",
    "    return files\n",
    "len(list_file())"
   ]
  },
  {
   "cell_type": "code",
   "execution_count": 14,
   "metadata": {},
   "outputs": [
    {
     "data": {
      "text/html": [
       "<div>\n",
       "<style scoped>\n",
       "    .dataframe tbody tr th:only-of-type {\n",
       "        vertical-align: middle;\n",
       "    }\n",
       "\n",
       "    .dataframe tbody tr th {\n",
       "        vertical-align: top;\n",
       "    }\n",
       "\n",
       "    .dataframe thead th {\n",
       "        text-align: right;\n",
       "    }\n",
       "</style>\n",
       "<table border=\"1\" class=\"dataframe\">\n",
       "  <thead>\n",
       "    <tr style=\"text-align: right;\">\n",
       "      <th></th>\n",
       "      <th>Emma</th>\n",
       "      <th>F</th>\n",
       "      <th>19847</th>\n",
       "    </tr>\n",
       "  </thead>\n",
       "  <tbody>\n",
       "    <tr>\n",
       "      <th>0</th>\n",
       "      <td>Olivia</td>\n",
       "      <td>F</td>\n",
       "      <td>18753</td>\n",
       "    </tr>\n",
       "    <tr>\n",
       "      <th>1</th>\n",
       "      <td>Ava</td>\n",
       "      <td>F</td>\n",
       "      <td>15998</td>\n",
       "    </tr>\n",
       "    <tr>\n",
       "      <th>2</th>\n",
       "      <td>Isabella</td>\n",
       "      <td>F</td>\n",
       "      <td>15222</td>\n",
       "    </tr>\n",
       "    <tr>\n",
       "      <th>3</th>\n",
       "      <td>Sophia</td>\n",
       "      <td>F</td>\n",
       "      <td>14910</td>\n",
       "    </tr>\n",
       "    <tr>\n",
       "      <th>4</th>\n",
       "      <td>Mia</td>\n",
       "      <td>F</td>\n",
       "      <td>13496</td>\n",
       "    </tr>\n",
       "    <tr>\n",
       "      <th>...</th>\n",
       "      <td>...</td>\n",
       "      <td>...</td>\n",
       "      <td>...</td>\n",
       "    </tr>\n",
       "    <tr>\n",
       "      <th>32642</th>\n",
       "      <td>Zykeem</td>\n",
       "      <td>M</td>\n",
       "      <td>5</td>\n",
       "    </tr>\n",
       "    <tr>\n",
       "      <th>32643</th>\n",
       "      <td>Zylin</td>\n",
       "      <td>M</td>\n",
       "      <td>5</td>\n",
       "    </tr>\n",
       "    <tr>\n",
       "      <th>32644</th>\n",
       "      <td>Zylis</td>\n",
       "      <td>M</td>\n",
       "      <td>5</td>\n",
       "    </tr>\n",
       "    <tr>\n",
       "      <th>32645</th>\n",
       "      <td>Zylyn</td>\n",
       "      <td>M</td>\n",
       "      <td>5</td>\n",
       "    </tr>\n",
       "    <tr>\n",
       "      <th>32646</th>\n",
       "      <td>Zyrie</td>\n",
       "      <td>M</td>\n",
       "      <td>5</td>\n",
       "    </tr>\n",
       "  </tbody>\n",
       "</table>\n",
       "<p>32647 rows × 3 columns</p>\n",
       "</div>"
      ],
      "text/plain": [
       "           Emma  F  19847\n",
       "0        Olivia  F  18753\n",
       "1           Ava  F  15998\n",
       "2      Isabella  F  15222\n",
       "3        Sophia  F  14910\n",
       "4           Mia  F  13496\n",
       "...         ... ..    ...\n",
       "32642    Zykeem  M      5\n",
       "32643     Zylin  M      5\n",
       "32644     Zylis  M      5\n",
       "32645     Zylyn  M      5\n",
       "32646     Zyrie  M      5\n",
       "\n",
       "[32647 rows x 3 columns]"
      ]
     },
     "execution_count": 14,
     "metadata": {},
     "output_type": "execute_result"
    }
   ],
   "source": [
    "pd.read_csv('/home/gh7951/projects/telecom/h_ghalebi/Kit-Big-Data/session3/data/us_name/yob2017.txt', sep=\",\")"
   ]
  },
  {
   "cell_type": "code",
   "execution_count": 118,
   "metadata": {},
   "outputs": [
    {
     "name": "stdout",
     "output_type": "stream",
     "text": [
      "Filed to read NationalReadMe.pdf\n"
     ]
    }
   ],
   "source": [
    "\n",
    "from cmath import nan\n",
    "from unicodedata import name\n",
    "from jack import Status\n",
    "from nbformat import read\n",
    "import pandas as pd\n",
    "import re\n",
    "\n",
    "from sqlalchemy import null\n",
    "def read_files(file_name, us_name_path):\n",
    "    year =re.findall(r'\\d+', file_name)\n",
    "    try:\n",
    "        df = pd.read_csv(us_name_path+'/'+ file_name, sep=\",\",header=None, encoding = 'unicode_escape')\n",
    "        df.columns = ['name', 'gender', 'births']\n",
    "        \n",
    "    \n",
    "        \n",
    "        df['year'] = year * len(df)\n",
    "        \n",
    "        return df , True\n",
    "    except:\n",
    "        data = {'name': None, 'gender': None, 'births': None, 'year': year}\n",
    "        return pd.DataFrame(data) , False\n",
    "\n",
    "\n",
    "\n",
    "def df_names_us(path = r\"./data/us_name\", columns_order = [\"year\", \"name\", \"gender\", \"births\"]):\n",
    "    total= pd.DataFrame()\n",
    "\n",
    "    length = 0\n",
    "    for file in list_file(path=path):\n",
    "        \n",
    "        data,Status = read_files(file, path)\n",
    "        if Status is not True:\n",
    "            print (f'Filed to read {file}')\n",
    "        length+= len(data)\n",
    "        total = pd.concat([total, data], axis=0)\n",
    "    #\n",
    "    #total = remove_short_name(df=total, min_length=2)\n",
    "    total = column_capitalize(total, col=\"name\")\n",
    "    #print(f\" cumlative leghnt is {length} and total leghnt is {len(total)}\")\n",
    "    #total = total.dropna()\n",
    "\n",
    "    #total =total.reset_index(drop=True)\n",
    "    \n",
    "        #  - Mêmes dtypes pour les colonnes\n",
    "    total ['year'] = pd.to_datetime (total ['year'])\n",
    "    total['year'] = pd.DatetimeIndex(total['year']).year\n",
    "    total ['births'] = pd.to_numeric (total ['births'] )\n",
    "    \n",
    "    total = total.sort_values(by=[ 'gender', 'births','name','year'],\n",
    "                                ascending=[False, False, True,False])\n",
    "    total =total.reset_index()\n",
    "    total = total.drop(columns=['index'])\n",
    "    return total [columns_order]\n",
    "\n",
    "\n",
    "\n",
    "def remove_short_name(df, min_length = 2):\n",
    "    df = df[df.name.str.len() >= min_length]\n",
    "    return df\n",
    "\n",
    "def column_capitalize(datafram ,col = \"name\"):\n",
    "    datafram[col] = datafram[col].str.capitalize()\n",
    "    return datafram\n",
    "\n",
    "# df1 = read_files(onlyfiles[0], us_name_path)\n",
    "# df2 = read_files(onlyfiles[1], us_name_path)\n",
    "# df3 = read_files(onlyfiles[2], us_name_path)\n",
    "# all_row_pd = pd.concat([df1, df2, df3], axis=0)\n",
    "# all_row_pd\n",
    "\n",
    "us_data = df_names_us()"
   ]
  },
  {
   "cell_type": "code",
   "execution_count": null,
   "metadata": {},
   "outputs": [],
   "source": [
    "2052781"
   ]
  },
  {
   "cell_type": "code",
   "execution_count": 21,
   "metadata": {},
   "outputs": [
    {
     "data": {
      "text/html": [
       "<div>\n",
       "<style scoped>\n",
       "    .dataframe tbody tr th:only-of-type {\n",
       "        vertical-align: middle;\n",
       "    }\n",
       "\n",
       "    .dataframe tbody tr th {\n",
       "        vertical-align: top;\n",
       "    }\n",
       "\n",
       "    .dataframe thead th {\n",
       "        text-align: right;\n",
       "    }\n",
       "</style>\n",
       "<table border=\"1\" class=\"dataframe\">\n",
       "  <thead>\n",
       "    <tr style=\"text-align: right;\">\n",
       "      <th></th>\n",
       "      <th>year</th>\n",
       "      <th>name</th>\n",
       "      <th>gender</th>\n",
       "      <th>births</th>\n",
       "    </tr>\n",
       "  </thead>\n",
       "  <tbody>\n",
       "    <tr>\n",
       "      <th>0</th>\n",
       "      <td>1947</td>\n",
       "      <td>James</td>\n",
       "      <td>M</td>\n",
       "      <td>94762</td>\n",
       "    </tr>\n",
       "    <tr>\n",
       "      <th>1</th>\n",
       "      <td>1957</td>\n",
       "      <td>Michael</td>\n",
       "      <td>M</td>\n",
       "      <td>92723</td>\n",
       "    </tr>\n",
       "    <tr>\n",
       "      <th>2</th>\n",
       "      <td>1947</td>\n",
       "      <td>Robert</td>\n",
       "      <td>M</td>\n",
       "      <td>91651</td>\n",
       "    </tr>\n",
       "    <tr>\n",
       "      <th>3</th>\n",
       "      <td>1956</td>\n",
       "      <td>Michael</td>\n",
       "      <td>M</td>\n",
       "      <td>90715</td>\n",
       "    </tr>\n",
       "    <tr>\n",
       "      <th>4</th>\n",
       "      <td>1958</td>\n",
       "      <td>Michael</td>\n",
       "      <td>M</td>\n",
       "      <td>90574</td>\n",
       "    </tr>\n",
       "    <tr>\n",
       "      <th>...</th>\n",
       "      <td>...</td>\n",
       "      <td>...</td>\n",
       "      <td>...</td>\n",
       "      <td>...</td>\n",
       "    </tr>\n",
       "    <tr>\n",
       "      <th>2052776</th>\n",
       "      <td>2014</td>\n",
       "      <td>Zyrihanna</td>\n",
       "      <td>F</td>\n",
       "      <td>5</td>\n",
       "    </tr>\n",
       "    <tr>\n",
       "      <th>2052777</th>\n",
       "      <td>2011</td>\n",
       "      <td>Zyrihanna</td>\n",
       "      <td>F</td>\n",
       "      <td>5</td>\n",
       "    </tr>\n",
       "    <tr>\n",
       "      <th>2052778</th>\n",
       "      <td>2010</td>\n",
       "      <td>Zyrihanna</td>\n",
       "      <td>F</td>\n",
       "      <td>5</td>\n",
       "    </tr>\n",
       "    <tr>\n",
       "      <th>2052779</th>\n",
       "      <td>2016</td>\n",
       "      <td>Zyriyah</td>\n",
       "      <td>F</td>\n",
       "      <td>5</td>\n",
       "    </tr>\n",
       "    <tr>\n",
       "      <th>2052780</th>\n",
       "      <td>2014</td>\n",
       "      <td>Zyriyah</td>\n",
       "      <td>F</td>\n",
       "      <td>5</td>\n",
       "    </tr>\n",
       "  </tbody>\n",
       "</table>\n",
       "<p>2052781 rows × 4 columns</p>\n",
       "</div>"
      ],
      "text/plain": [
       "         year       name gender  births\n",
       "0        1947      James      M   94762\n",
       "1        1957    Michael      M   92723\n",
       "2        1947     Robert      M   91651\n",
       "3        1956    Michael      M   90715\n",
       "4        1958    Michael      M   90574\n",
       "...       ...        ...    ...     ...\n",
       "2052776  2014  Zyrihanna      F       5\n",
       "2052777  2011  Zyrihanna      F       5\n",
       "2052778  2010  Zyrihanna      F       5\n",
       "2052779  2016    Zyriyah      F       5\n",
       "2052780  2014    Zyriyah      F       5\n",
       "\n",
       "[2052781 rows x 4 columns]"
      ]
     },
     "execution_count": 21,
     "metadata": {},
     "output_type": "execute_result"
    }
   ],
   "source": [
    "us_data"
   ]
  },
  {
   "cell_type": "code",
   "execution_count": 22,
   "metadata": {},
   "outputs": [
    {
     "data": {
      "text/plain": [
       "True"
      ]
     },
     "execution_count": 22,
     "metadata": {},
     "output_type": "execute_result"
    }
   ],
   "source": [
    "\n",
    "\n",
    "\n",
    "us_data.columns.values.tolist() == [\"year\", \"name\", \"gender\", \"births\"]"
   ]
  },
  {
   "cell_type": "code",
   "execution_count": 23,
   "metadata": {},
   "outputs": [
    {
     "data": {
      "text/plain": [
       "0"
      ]
     },
     "execution_count": 23,
     "metadata": {},
     "output_type": "execute_result"
    }
   ],
   "source": [
    "len(us_data) - 2052781\n"
   ]
  },
  {
   "cell_type": "code",
   "execution_count": 20,
   "metadata": {},
   "outputs": [
    {
     "data": {
      "text/plain": [
       "True"
      ]
     },
     "execution_count": 20,
     "metadata": {},
     "output_type": "execute_result"
    }
   ],
   "source": [
    "us_data.loc[us_data.isnull().any(axis=1)].empty"
   ]
  },
  {
   "cell_type": "code",
   "execution_count": 24,
   "metadata": {},
   "outputs": [
    {
     "data": {
      "text/plain": [
       "array([False, False, False, ..., False, False, False])"
      ]
     },
     "execution_count": 24,
     "metadata": {},
     "output_type": "execute_result"
    }
   ],
   "source": [
    "us_data.index ==  pd.core.indexes.range.RangeIndex"
   ]
  },
  {
   "cell_type": "code",
   "execution_count": 8,
   "metadata": {},
   "outputs": [
    {
     "data": {
      "text/plain": [
       "Int64Index([ 6103,  7013,  6104,  6890,  7024,  6040,  6623,  6728,  6105,\n",
       "             5684,\n",
       "            ...\n",
       "            19517, 20188, 17970, 19106, 17542, 19214, 19574, 19821, 18851,\n",
       "            19215],\n",
       "           dtype='int64', length=2052639)"
      ]
     },
     "execution_count": 8,
     "metadata": {},
     "output_type": "execute_result"
    }
   ],
   "source": [
    "us_data.index"
   ]
  },
  {
   "cell_type": "code",
   "execution_count": 15,
   "metadata": {},
   "outputs": [
    {
     "data": {
      "text/plain": [
       "<property at 0x7fb7652eee80>"
      ]
     },
     "execution_count": 15,
     "metadata": {},
     "output_type": "execute_result"
    }
   ],
   "source": [
    "pd.core.indexes.range.RangeIndex.start"
   ]
  },
  {
   "cell_type": "code",
   "execution_count": 119,
   "metadata": {},
   "outputs": [
    {
     "name": "stderr",
     "output_type": "stream",
     "text": [
      "/tmp/ipykernel_224879/3301415410.py:14: DtypeWarning: Columns (0,3) have mixed types. Specify dtype option on import or set low_memory=False.\n",
      "  french_data = pd.read_csv(r\"./data/french_name/nat2021.csv\",sep = ';',\n",
      "/tmp/ipykernel_224879/3301415410.py:58: UserWarning: Boolean Series key will be reindexed to match DataFrame index.\n",
      "  french_data = french_data [~damaged_name_data]\n"
     ]
    },
    {
     "name": "stdout",
     "output_type": "stream",
     "text": [
      "Error in converting year to Date time\n",
      "Error in converting births to numeric\n"
     ]
    }
   ],
   "source": [
    "# names fr\n",
    "\n",
    " #  - Mêmes valeurs pour la colonne \"gender\"\n",
    "def convert_gender_label(number):\n",
    "    if number == 1:\n",
    "        return \"M\"\n",
    "    else:\n",
    "        return \"F\"\n",
    "\n",
    "def df_names_fr():\n",
    "    \n",
    "    columns_order = ['gender', 'name', 'year', 'births']\n",
    "    \n",
    "    french_data = pd.read_csv(r\"./data/french_name/nat2021.csv\",sep = ';',\n",
    "                              header=None, encoding = 'unicode_escape',\n",
    "                              names = columns_order , keep_default_na = False)\n",
    "    \n",
    "    \n",
    "    \n",
    "    french_data = french_data.dropna()\n",
    "    #print (\"Step 1\",french_data)\n",
    "    # - Même ordre et mêmes noms des colonnes : \"year\", \"name\", \"gender\", \"births\"\n",
    "    \n",
    "    #french_data = french_data.rename({'preusuel': 'name', 'annais': 'year', 'sexe':'gender', 'nombre': 'births'}, axis='columns')\n",
    "\n",
    "\n",
    "    new_order = [\"year\", \"name\", \"gender\", \"births\"]\n",
    "    french_data = french_data [ new_order]\n",
    "\n",
    "    #print (\"Step 2\",french_data)\n",
    "\n",
    "\n",
    "   \n",
    "\n",
    "\n",
    "    french_data['gender'] = french_data ['gender'].apply(convert_gender_label)\n",
    "    #print (\"Step 3\",french_data)\n",
    "\n",
    "    #  - Seuls les prénoms de 2 caractères et plus sont conservés\n",
    "    french_data = remove_short_name(df=french_data, min_length=2)\n",
    "    #print (\"Step 4\",french_data)\n",
    "\n",
    "    #  - La casse des prénoms doit être identique : initiales en majuscule, autres lettres en minuscule\n",
    "    #french_data = column_capitalize(french_data, col=\"name\")\n",
    "    french_data['name'] = french_data[\"name\"].str.title()\n",
    "    #print (french_data)\n",
    "\n",
    "    #french_data['year'].unique() . I used this  to find out if there is any year that is not number\n",
    "    #  - Les lignes avec des données inutilisables doivent être supprimées\n",
    "\n",
    "    none_accepted_year_format = ['XXXX'] \n",
    "    none_accepted_name_format = ['Inconnu', 'Inconnue','_PRENOMS_RARES','_prenoms_rares'] \n",
    "    #none_accepted_name_format = ['_PRENOMS_RARES'] \n",
    "    damaged_year_data = french_data['year'].isin(none_accepted_year_format) #\n",
    "    damaged_name_data = french_data['name'].isin(none_accepted_name_format)\n",
    "    french_data = french_data [~damaged_year_data]\n",
    "    #print (\"Step 5\",french_data)\n",
    "    french_data = french_data [~damaged_name_data]\n",
    "    #print (french_data)\n",
    "    \n",
    "    #print (\"Step 6\",french_data)\n",
    "\n",
    "\n",
    "\n",
    "\n",
    "    #  - Mêmes dtypes pour les colonnes\n",
    "    try:\n",
    "        french_data ['year'] = pd.to_datetime (french_data ['year'] , format='%Y')\n",
    "        \n",
    "        print (\"Step 7\",french_data)\n",
    "    except:\n",
    "        print (\"Error in converting year to Date time\")\n",
    "        \n",
    "    try: \n",
    "        french_data['births'] = pd.to_numeric(french_data['births'] )\n",
    "        print (\"Step 8\",french_data)\n",
    "    except:\n",
    "        print (\"Error in converting births to numeric\")\n",
    "\n",
    "\n",
    "\n",
    "\n",
    "    #Les données sont triées à l'identique : year (↑), puis gender (↑), puis births (↓) et enfin name (↑)\n",
    "    french_data = french_data.sort_values(by=[ 'gender', 'births','name','year'],\n",
    "                                ascending=[False, False, True,False])\n",
    "\n",
    "    # - L'index du DataFrame doit aller de 0 à N-1\n",
    "    french_data =french_data.reset_index()\n",
    "    french_data = french_data.drop(['index'], axis=1)\n",
    "    return french_data\n",
    "\n",
    "french_names = df_names_fr()"
   ]
  },
  {
   "cell_type": "code",
   "execution_count": 120,
   "metadata": {},
   "outputs": [
    {
     "data": {
      "text/plain": [
       "True"
      ]
     },
     "execution_count": 120,
     "metadata": {},
     "output_type": "execute_result"
    }
   ],
   "source": [
    "\n",
    "french_names.loc[french_names.name.str.contains(r\"^[A-Z]+$\")].empty\n"
   ]
  },
  {
   "cell_type": "code",
   "execution_count": 121,
   "metadata": {},
   "outputs": [
    {
     "data": {
      "text/plain": [
       "True"
      ]
     },
     "execution_count": 121,
     "metadata": {},
     "output_type": "execute_result"
    }
   ],
   "source": [
    "french_names.loc[french_names.name.str.contains(r\"-[a-z]+$\")].empty"
   ]
  },
  {
   "cell_type": "code",
   "execution_count": 122,
   "metadata": {},
   "outputs": [
    {
     "data": {
      "text/plain": [
       "245"
      ]
     },
     "execution_count": 122,
     "metadata": {},
     "output_type": "execute_result"
    }
   ],
   "source": [
    "len(french_names)- 648330"
   ]
  },
  {
   "cell_type": "code",
   "execution_count": null,
   "metadata": {},
   "outputs": [],
   "source": []
  },
  {
   "cell_type": "markdown",
   "metadata": {},
   "source": [
    "## 3. Taux de change\n",
    "\n",
    "On va s'intéresser au dataset des cours des devises de la Banque de France :  http://webstat.banque-france.fr/fr/browseBox.do?node=5385566\n",
    "\n",
    "Les données sont dans le fichier \"Webstat_Export.csv\".\n",
    "\n",
    "L'idée est de charger les données, de les nettoyer et de pouvoir accéder aux cours de certaines devises à partir de leur code ISO3. On retiendra uniquement les colonnes se terminant effectivement par un code ISO3 entre parenthèses. Par ex., \"Dollar des Etats-Unis (USD)\".\n",
    "\n",
    "Implémenter une fonction `df_taux_change()` qui produit un DataFrame avec les taux de change par date pour une liste de codes ISO3 de devises passée en argument. L'index du DataFrame doit correspondre aux dates (voir la fonction `pd.to_datetime()` avec le format`\"%d/%m/%Y\"`) et doit être trié par ordre croissant. Les colonnes du DataFrame doivent correspondre aux devises sélectionnées."
   ]
  },
  {
   "cell_type": "code",
   "execution_count": null,
   "metadata": {},
   "outputs": [
    {
     "data": {
      "text/html": [
       "<div>\n",
       "<style scoped>\n",
       "    .dataframe tbody tr th:only-of-type {\n",
       "        vertical-align: middle;\n",
       "    }\n",
       "\n",
       "    .dataframe tbody tr th {\n",
       "        vertical-align: top;\n",
       "    }\n",
       "\n",
       "    .dataframe thead th {\n",
       "        text-align: right;\n",
       "    }\n",
       "</style>\n",
       "<table border=\"1\" class=\"dataframe\">\n",
       "  <thead>\n",
       "    <tr style=\"text-align: right;\">\n",
       "      <th></th>\n",
       "      <th>Titre :</th>\n",
       "      <th>Cours de l'or contre euro - 1er fixing à Londres</th>\n",
       "      <th>Cours de l'or contre dollar - 1er fixing à Londres</th>\n",
       "    </tr>\n",
       "  </thead>\n",
       "  <tbody>\n",
       "    <tr>\n",
       "      <th>5</th>\n",
       "      <td>27/09/2022</td>\n",
       "      <td>1696,76</td>\n",
       "      <td>1632,6</td>\n",
       "    </tr>\n",
       "    <tr>\n",
       "      <th>6</th>\n",
       "      <td>26/09/2022</td>\n",
       "      <td>1700,86</td>\n",
       "      <td>1647</td>\n",
       "    </tr>\n",
       "    <tr>\n",
       "      <th>7</th>\n",
       "      <td>25/09/2022</td>\n",
       "      <td>-</td>\n",
       "      <td>-</td>\n",
       "    </tr>\n",
       "    <tr>\n",
       "      <th>8</th>\n",
       "      <td>24/09/2022</td>\n",
       "      <td>-</td>\n",
       "      <td>-</td>\n",
       "    </tr>\n",
       "    <tr>\n",
       "      <th>9</th>\n",
       "      <td>23/09/2022</td>\n",
       "      <td>1703,48</td>\n",
       "      <td>1661,45</td>\n",
       "    </tr>\n",
       "    <tr>\n",
       "      <th>10</th>\n",
       "      <td>22/09/2022</td>\n",
       "      <td>1692,92</td>\n",
       "      <td>1671,85</td>\n",
       "    </tr>\n",
       "    <tr>\n",
       "      <th>11</th>\n",
       "      <td>21/09/2022</td>\n",
       "      <td>1687,68</td>\n",
       "      <td>1674,45</td>\n",
       "    </tr>\n",
       "    <tr>\n",
       "      <th>12</th>\n",
       "      <td>20/09/2022</td>\n",
       "      <td>1665,56</td>\n",
       "      <td>1667,9</td>\n",
       "    </tr>\n",
       "    <tr>\n",
       "      <th>13</th>\n",
       "      <td>19/09/2022</td>\n",
       "      <td>-</td>\n",
       "      <td>-</td>\n",
       "    </tr>\n",
       "    <tr>\n",
       "      <th>14</th>\n",
       "      <td>18/09/2022</td>\n",
       "      <td>-</td>\n",
       "      <td>-</td>\n",
       "    </tr>\n",
       "    <tr>\n",
       "      <th>15</th>\n",
       "      <td>17/09/2022</td>\n",
       "      <td>-</td>\n",
       "      <td>-</td>\n",
       "    </tr>\n",
       "    <tr>\n",
       "      <th>16</th>\n",
       "      <td>16/09/2022</td>\n",
       "      <td>1666,96</td>\n",
       "      <td>1664,3</td>\n",
       "    </tr>\n",
       "    <tr>\n",
       "      <th>17</th>\n",
       "      <td>15/09/2022</td>\n",
       "      <td>1690,01</td>\n",
       "      <td>1689</td>\n",
       "    </tr>\n",
       "    <tr>\n",
       "      <th>18</th>\n",
       "      <td>14/09/2022</td>\n",
       "      <td>1702,78</td>\n",
       "      <td>1703,8</td>\n",
       "    </tr>\n",
       "    <tr>\n",
       "      <th>19</th>\n",
       "      <td>13/09/2022</td>\n",
       "      <td>1699,94</td>\n",
       "      <td>1727,05</td>\n",
       "    </tr>\n",
       "    <tr>\n",
       "      <th>20</th>\n",
       "      <td>12/09/2022</td>\n",
       "      <td>1698,01</td>\n",
       "      <td>1726,5</td>\n",
       "    </tr>\n",
       "    <tr>\n",
       "      <th>21</th>\n",
       "      <td>11/09/2022</td>\n",
       "      <td>-</td>\n",
       "      <td>-</td>\n",
       "    </tr>\n",
       "    <tr>\n",
       "      <th>22</th>\n",
       "      <td>10/09/2022</td>\n",
       "      <td>-</td>\n",
       "      <td>-</td>\n",
       "    </tr>\n",
       "    <tr>\n",
       "      <th>23</th>\n",
       "      <td>09/09/2022</td>\n",
       "      <td>1711,58</td>\n",
       "      <td>1726,95</td>\n",
       "    </tr>\n",
       "    <tr>\n",
       "      <th>24</th>\n",
       "      <td>08/09/2022</td>\n",
       "      <td>1720,42</td>\n",
       "      <td>1720,25</td>\n",
       "    </tr>\n",
       "  </tbody>\n",
       "</table>\n",
       "</div>"
      ],
      "text/plain": [
       "       Titre : Cours de l'or contre euro - 1er fixing à Londres  \\\n",
       "5   27/09/2022                                          1696,76   \n",
       "6   26/09/2022                                          1700,86   \n",
       "7   25/09/2022                                                -   \n",
       "8   24/09/2022                                                -   \n",
       "9   23/09/2022                                          1703,48   \n",
       "10  22/09/2022                                          1692,92   \n",
       "11  21/09/2022                                          1687,68   \n",
       "12  20/09/2022                                          1665,56   \n",
       "13  19/09/2022                                                -   \n",
       "14  18/09/2022                                                -   \n",
       "15  17/09/2022                                                -   \n",
       "16  16/09/2022                                          1666,96   \n",
       "17  15/09/2022                                          1690,01   \n",
       "18  14/09/2022                                          1702,78   \n",
       "19  13/09/2022                                          1699,94   \n",
       "20  12/09/2022                                          1698,01   \n",
       "21  11/09/2022                                                -   \n",
       "22  10/09/2022                                                -   \n",
       "23  09/09/2022                                          1711,58   \n",
       "24  08/09/2022                                          1720,42   \n",
       "\n",
       "   Cours de l'or contre dollar - 1er fixing à Londres  \n",
       "5                                              1632,6  \n",
       "6                                                1647  \n",
       "7                                                   -  \n",
       "8                                                   -  \n",
       "9                                             1661,45  \n",
       "10                                            1671,85  \n",
       "11                                            1674,45  \n",
       "12                                             1667,9  \n",
       "13                                                  -  \n",
       "14                                                  -  \n",
       "15                                                  -  \n",
       "16                                             1664,3  \n",
       "17                                               1689  \n",
       "18                                             1703,8  \n",
       "19                                            1727,05  \n",
       "20                                             1726,5  \n",
       "21                                                  -  \n",
       "22                                                  -  \n",
       "23                                            1726,95  \n",
       "24                                            1720,25  "
      ]
     },
     "execution_count": 126,
     "metadata": {},
     "output_type": "execute_result"
    }
   ],
   "source": [
    "# taux de change\n",
    "\n",
    "\n",
    "us_dollar_data_file = r'./data/us_doller_data/Webstat_Export_20220928.csv'\n",
    "\n",
    "us_dollar_data = pd.read_csv(us_dollar_data_file, sep=';', on_bad_lines='skip')\n",
    "us_dollar_data = us_dollar_data.iloc[5:]\n",
    "\n",
    "us_dollar_data.head(20)\n",
    "\n",
    "\n"
   ]
  },
  {
   "cell_type": "code",
   "execution_count": null,
   "metadata": {},
   "outputs": [
    {
     "name": "stderr",
     "output_type": "stream",
     "text": [
      "/tmp/ipykernel_70303/4189371360.py:1: UserWarning: Parsing dates in DD/MM/YYYY format when dayfirst=False (the default) was specified. This may lead to inconsistently parsed dates! Specify a format to ensure consistent parsing.\n",
      "  us_dollar_data.iloc[:, 0] = pd.to_datetime(us_dollar_data.iloc[:, 0])\n",
      "/tmp/ipykernel_70303/4189371360.py:1: FutureWarning: In a future version, `df.iloc[:, i] = newvals` will attempt to set the values inplace instead of always setting a new array. To retain the old behavior, use either `df[df.columns[i]] = newvals` or, if columns are non-unique, `df.isetitem(i, newvals)`\n",
      "  us_dollar_data.iloc[:, 0] = pd.to_datetime(us_dollar_data.iloc[:, 0])\n"
     ]
    }
   ],
   "source": [
    "us_dollar_data.iloc[:, 0] = pd.to_datetime(us_dollar_data.iloc[:, 0])\n"
   ]
  },
  {
   "cell_type": "code",
   "execution_count": 128,
   "metadata": {},
   "outputs": [
    {
     "data": {
      "text/html": [
       "<div>\n",
       "<style scoped>\n",
       "    .dataframe tbody tr th:only-of-type {\n",
       "        vertical-align: middle;\n",
       "    }\n",
       "\n",
       "    .dataframe tbody tr th {\n",
       "        vertical-align: top;\n",
       "    }\n",
       "\n",
       "    .dataframe thead th {\n",
       "        text-align: right;\n",
       "    }\n",
       "</style>\n",
       "<table border=\"1\" class=\"dataframe\">\n",
       "  <thead>\n",
       "    <tr style=\"text-align: right;\">\n",
       "      <th></th>\n",
       "      <th>date</th>\n",
       "      <th>EUR</th>\n",
       "      <th>USD</th>\n",
       "    </tr>\n",
       "  </thead>\n",
       "  <tbody>\n",
       "    <tr>\n",
       "      <th>0</th>\n",
       "      <td>2022-09-27</td>\n",
       "      <td>1696.76</td>\n",
       "      <td>1632.60</td>\n",
       "    </tr>\n",
       "    <tr>\n",
       "      <th>1</th>\n",
       "      <td>2022-09-26</td>\n",
       "      <td>1700.86</td>\n",
       "      <td>1647.00</td>\n",
       "    </tr>\n",
       "    <tr>\n",
       "      <th>2</th>\n",
       "      <td>2022-09-23</td>\n",
       "      <td>1703.48</td>\n",
       "      <td>1661.45</td>\n",
       "    </tr>\n",
       "    <tr>\n",
       "      <th>3</th>\n",
       "      <td>2022-09-22</td>\n",
       "      <td>1692.92</td>\n",
       "      <td>1671.85</td>\n",
       "    </tr>\n",
       "    <tr>\n",
       "      <th>4</th>\n",
       "      <td>2022-09-21</td>\n",
       "      <td>1687.68</td>\n",
       "      <td>1674.45</td>\n",
       "    </tr>\n",
       "    <tr>\n",
       "      <th>...</th>\n",
       "      <td>...</td>\n",
       "      <td>...</td>\n",
       "      <td>...</td>\n",
       "    </tr>\n",
       "    <tr>\n",
       "      <th>1662</th>\n",
       "      <td>2016-03-07</td>\n",
       "      <td>1156.96</td>\n",
       "      <td>1267.60</td>\n",
       "    </tr>\n",
       "    <tr>\n",
       "      <th>1663</th>\n",
       "      <td>2016-03-04</td>\n",
       "      <td>1158.67</td>\n",
       "      <td>1271.50</td>\n",
       "    </tr>\n",
       "    <tr>\n",
       "      <th>1664</th>\n",
       "      <td>2016-03-03</td>\n",
       "      <td>1141.48</td>\n",
       "      <td>1241.95</td>\n",
       "    </tr>\n",
       "    <tr>\n",
       "      <th>1665</th>\n",
       "      <td>2016-03-02</td>\n",
       "      <td>1131.53</td>\n",
       "      <td>1229.35</td>\n",
       "    </tr>\n",
       "    <tr>\n",
       "      <th>1666</th>\n",
       "      <td>2016-03-01</td>\n",
       "      <td>1141.70</td>\n",
       "      <td>1240.00</td>\n",
       "    </tr>\n",
       "  </tbody>\n",
       "</table>\n",
       "<p>1667 rows × 3 columns</p>\n",
       "</div>"
      ],
      "text/plain": [
       "           date      EUR      USD\n",
       "0    2022-09-27  1696.76  1632.60\n",
       "1    2022-09-26  1700.86  1647.00\n",
       "2    2022-09-23  1703.48  1661.45\n",
       "3    2022-09-22  1692.92  1671.85\n",
       "4    2022-09-21  1687.68  1674.45\n",
       "...         ...      ...      ...\n",
       "1662 2016-03-07  1156.96  1267.60\n",
       "1663 2016-03-04  1158.67  1271.50\n",
       "1664 2016-03-03  1141.48  1241.95\n",
       "1665 2016-03-02  1131.53  1229.35\n",
       "1666 2016-03-01  1141.70  1240.00\n",
       "\n",
       "[1667 rows x 3 columns]"
      ]
     },
     "execution_count": 128,
     "metadata": {},
     "output_type": "execute_result"
    }
   ],
   "source": [
    "import datetime\n",
    "def read_curency_data():\n",
    "\n",
    "    us_dollar_data_file = r'./data/us_doller_data/Webstat_Export_20220928.csv'\n",
    "\n",
    "    us_dollar_data = pd.read_csv(us_dollar_data_file, sep=';', on_bad_lines='skip')\n",
    "    us_dollar_data = us_dollar_data.iloc[5:]\n",
    "\n",
    "    us_dollar_data.head(20)\n",
    "\n",
    "    #us_dollar_data = us_dollar_data.dropna()\n",
    "\n",
    "    us_dollar_data['date'] = us_dollar_data.iloc[:, 0]\n",
    "    us_dollar_data['date'] =  pd.to_datetime(us_dollar_data['date'],  format='%d/%m/%Y')\n",
    "\n",
    "    us_dollar_data['EUR'] = us_dollar_data.iloc[:, 1]\n",
    "    us_dollar_data['EUR'] =us_dollar_data['EUR'].apply(lambda x: x.replace(',', '.'))\n",
    "    us_dollar_data['EUR'] =us_dollar_data['EUR'].apply(lambda x: x.replace('-', ''))\n",
    "    us_dollar_data['EUR'] = pd.to_numeric(us_dollar_data['EUR'])\n",
    "\n",
    "    us_dollar_data['USD'] = us_dollar_data.iloc[:, 2]\n",
    "    us_dollar_data['USD'] =us_dollar_data['USD'].apply(lambda x: x.replace(',', '.'))\n",
    "    us_dollar_data['USD'] =us_dollar_data['USD'].apply(lambda x: x.replace('-', ''))\n",
    "    us_dollar_data['USD'] = pd.to_numeric(us_dollar_data['USD'])\n",
    "\n",
    "    us_dollar_data = us_dollar_data[['date', 'EUR', 'USD']]\n",
    "    us_dollar_data = us_dollar_data.dropna()\n",
    "    us_dollar_data =  us_dollar_data.reset_index(drop=True)\n",
    "    \n",
    "    return us_dollar_data\n",
    "\n",
    "\n",
    "def df_taux_change(date , currency = 'EUR'):\n",
    "    \n",
    "    if isinstance(date, datetime):\n",
    "        currency_data = read_curency_data()\n",
    "        values = currency_data[us_dollar_data['date'] == date][currency].tolist()\n",
    "        \n",
    "    else:\n",
    "        raise NameError('Your should use datatime format for the date')\n",
    "    \n",
    "\n",
    "data = read_curency_data()\n",
    "data"
   ]
  },
  {
   "cell_type": "code",
   "execution_count": null,
   "metadata": {},
   "outputs": [
    {
     "name": "stdout",
     "output_type": "stream",
     "text": [
      "None\n"
     ]
    }
   ],
   "source": []
  },
  {
   "cell_type": "code",
   "execution_count": null,
   "metadata": {},
   "outputs": [
    {
     "ename": "NameError",
     "evalue": "name 'us_dollar_data' is not defined",
     "output_type": "error",
     "traceback": [
      "\u001b[0;31m---------------------------------------------------------------------------\u001b[0m",
      "\u001b[0;31mNameError\u001b[0m                                 Traceback (most recent call last)",
      "\u001b[1;32m/home/gh7951/projects/telecom/h_ghalebi/Kit-Big-Data/session3/projet3.ipynb Cell 23\u001b[0m in \u001b[0;36m<cell line: 5>\u001b[0;34m()\u001b[0m\n\u001b[1;32m      <a href='vscode-notebook-cell:/home/gh7951/projects/telecom/h_ghalebi/Kit-Big-Data/session3/projet3.ipynb#X30sZmlsZQ%3D%3D?line=2'>3</a>\u001b[0m a_date \u001b[39m=\u001b[39m datetime(\u001b[39m2016\u001b[39m, \u001b[39m3\u001b[39m, \u001b[39m1\u001b[39m)\n\u001b[1;32m      <a href='vscode-notebook-cell:/home/gh7951/projects/telecom/h_ghalebi/Kit-Big-Data/session3/projet3.ipynb#X30sZmlsZQ%3D%3D?line=3'>4</a>\u001b[0m \u001b[39mtype\u001b[39m (a_date)\n\u001b[0;32m----> <a href='vscode-notebook-cell:/home/gh7951/projects/telecom/h_ghalebi/Kit-Big-Data/session3/projet3.ipynb#X30sZmlsZQ%3D%3D?line=4'>5</a>\u001b[0m values \u001b[39m=\u001b[39m us_dollar_data[us_dollar_data[\u001b[39m'\u001b[39m\u001b[39mdate\u001b[39m\u001b[39m'\u001b[39m] \u001b[39m==\u001b[39m a_date][\u001b[39m'\u001b[39m\u001b[39mEUR\u001b[39m\u001b[39m'\u001b[39m]\u001b[39m.\u001b[39mtolist()\n\u001b[1;32m      <a href='vscode-notebook-cell:/home/gh7951/projects/telecom/h_ghalebi/Kit-Big-Data/session3/projet3.ipynb#X30sZmlsZQ%3D%3D?line=5'>6</a>\u001b[0m values\n",
      "\u001b[0;31mNameError\u001b[0m: name 'us_dollar_data' is not defined"
     ]
    }
   ],
   "source": [
    "from datetime import datetime\n",
    "#a_date = datetime.strptime('2022-09-22', format=\"%d/%m/%Y\")\n",
    "a_date = datetime(2016, 3, 1)\n",
    "type (a_date)\n",
    "values = us_dollar_data[us_dollar_data['date'] == a_date]['EUR'].tolist()\n",
    "values"
   ]
  },
  {
   "cell_type": "code",
   "execution_count": null,
   "metadata": {},
   "outputs": [
    {
     "data": {
      "text/plain": [
       "True"
      ]
     },
     "execution_count": 148,
     "metadata": {},
     "output_type": "execute_result"
    }
   ],
   "source": [
    "isinstance(a_date, datetime)"
   ]
  },
  {
   "cell_type": "markdown",
   "metadata": {},
   "source": [
    "### Tests"
   ]
  },
  {
   "cell_type": "code",
   "execution_count": 25,
   "metadata": {},
   "outputs": [],
   "source": [
    "import unittest\n",
    "\n",
    "class Session3Tests(unittest.TestCase):\n",
    "    def test_df_names_us(self):\n",
    "        df = df_names_us()\n",
    "        # colonnes\n",
    "        self.assertEqual(list(df.columns), [\"year\", \"name\", \"gender\", \"births\"])\n",
    "        # lignes\n",
    "        self.assertEqual(len(df), 2052781)\n",
    "        # index\n",
    "        self.assertTrue(isinstance(df.index, pd.core.indexes.range.RangeIndex))\n",
    "        # test NaN\n",
    "        self.assertTrue(df.loc[df.isnull().any(axis=1)].empty)\n",
    "    \n",
    "    def test_df_names_fr(self):\n",
    "        df = df_names_fr()\n",
    "        # colonnes\n",
    "        self.assertEqual(list(df.columns), [\"year\", \"name\", \"gender\", \"births\"])\n",
    "        # lignes\n",
    "        self.assertEqual(len(df), 648330)\n",
    "        # index\n",
    "        self.assertTrue(isinstance(df.index, pd.RangeIndex))\n",
    "        # test names\n",
    "        self.assertTrue(df.loc[df.name.str.contains(r\"^[A-Z]+$\")].empty)\n",
    "        self.assertTrue(df.loc[df.name.str.contains(r\"-[a-z]+$\")].empty)\n",
    "        # test gender\n",
    "        self.assertEqual(len(df), len(df.loc[df.gender==\"F\"]) + len(df.loc[df.gender=='M']))\n",
    "        # test NaN\n",
    "        self.assertTrue(df.loc[df.isnull().any(axis=1)].empty)\n",
    "\n",
    "    def test_df_taux_change(self):\n",
    "        df = df_taux_change([\"CHF\", \"GBP\", \"USD\"])\n",
    "        # colonnes\n",
    "        self.assertEqual(list(df.columns), [\"CHF\", \"GBP\", \"USD\"])\n",
    "        # index\n",
    "        self.assertTrue(isinstance(df.index, pd.DatetimeIndex))\n",
    "        # index trié\n",
    "        self.assertEqual(list(df.index.argsort()), list(range(len(df))))\n",
    "        # types taux\n",
    "        self.assertTrue((df.dtypes == float).all())\n",
    "        # test NaN\n",
    "        self.assertTrue(df.loc[df.isnull().any(axis=1)].empty) "
   ]
  },
  {
   "cell_type": "code",
   "execution_count": 26,
   "metadata": {},
   "outputs": [],
   "source": [
    "# run tests\n",
    "def run_tests():\n",
    "    test_suite = unittest.makeSuite(Session3Tests)\n",
    "    runner = unittest.TextTestRunner(verbosity=2)\n",
    "    runner.run(test_suite)"
   ]
  },
  {
   "cell_type": "code",
   "execution_count": 65,
   "metadata": {},
   "outputs": [
    {
     "name": "stderr",
     "output_type": "stream",
     "text": [
      "test_df_names_fr (__main__.Session3Tests) ... /tmp/ipykernel_224879/169755687.py:14: DtypeWarning: Columns (0,3) have mixed types. Specify dtype option on import or set low_memory=False.\n",
      "  french_data = pd.read_csv(r\"./data/french_name/nat2021.csv\",sep = ';',\n"
     ]
    },
    {
     "name": "stdout",
     "output_type": "stream",
     "text": [
      "Step 1        gender            name    year  births\n",
      "0        sexe        preusuel  annais  nombre\n",
      "1           1  _PRENOMS_RARES    1900    1249\n",
      "2           1  _PRENOMS_RARES    1901    1342\n",
      "3           1  _PRENOMS_RARES    1902    1330\n",
      "4           1  _PRENOMS_RARES    1903    1286\n",
      "...       ...             ...     ...     ...\n",
      "686534      2           ZYNEB    2018       5\n",
      "686535      2           ZYNEB    2019       7\n",
      "686536      2           ZYNEB    2020       8\n",
      "686537      2           ZYNEB    2021       6\n",
      "686538      2           ZYNEB    XXXX      19\n",
      "\n",
      "[686539 rows x 4 columns]\n",
      "Step 2           year            name gender  births\n",
      "0       annais        preusuel   sexe  nombre\n",
      "1         1900  _PRENOMS_RARES      1    1249\n",
      "2         1901  _PRENOMS_RARES      1    1342\n",
      "3         1902  _PRENOMS_RARES      1    1330\n",
      "4         1903  _PRENOMS_RARES      1    1286\n",
      "...        ...             ...    ...     ...\n",
      "686534    2018           ZYNEB      2       5\n",
      "686535    2019           ZYNEB      2       7\n",
      "686536    2020           ZYNEB      2       8\n",
      "686537    2021           ZYNEB      2       6\n",
      "686538    XXXX           ZYNEB      2      19\n",
      "\n",
      "[686539 rows x 4 columns]\n",
      "Step 3           year            name gender  births\n",
      "0       annais        preusuel      F  nombre\n",
      "1         1900  _PRENOMS_RARES      F    1249\n",
      "2         1901  _PRENOMS_RARES      F    1342\n",
      "3         1902  _PRENOMS_RARES      F    1330\n",
      "4         1903  _PRENOMS_RARES      F    1286\n",
      "...        ...             ...    ...     ...\n",
      "686534    2018           ZYNEB      F       5\n",
      "686535    2019           ZYNEB      F       7\n",
      "686536    2020           ZYNEB      F       8\n",
      "686537    2021           ZYNEB      F       6\n",
      "686538    XXXX           ZYNEB      F      19\n",
      "\n",
      "[686539 rows x 4 columns]\n",
      "Step 4           year            name gender  births\n",
      "0       annais        preusuel      F  nombre\n",
      "1         1900  _PRENOMS_RARES      F    1249\n",
      "2         1901  _PRENOMS_RARES      F    1342\n",
      "3         1902  _PRENOMS_RARES      F    1330\n",
      "4         1903  _PRENOMS_RARES      F    1286\n",
      "...        ...             ...    ...     ...\n",
      "686534    2018           ZYNEB      F       5\n",
      "686535    2019           ZYNEB      F       7\n",
      "686536    2020           ZYNEB      F       8\n",
      "686537    2021           ZYNEB      F       6\n",
      "686538    XXXX           ZYNEB      F      19\n",
      "\n",
      "[686492 rows x 4 columns]\n",
      "          year            name gender  births\n",
      "0       annais        Preusuel      F  nombre\n",
      "1         1900  _prenoms_rares      F    1249\n",
      "2         1901  _prenoms_rares      F    1342\n",
      "3         1902  _prenoms_rares      F    1330\n",
      "4         1903  _prenoms_rares      F    1286\n",
      "...        ...             ...    ...     ...\n",
      "686534    2018           Zyneb      F       5\n",
      "686535    2019           Zyneb      F       7\n",
      "686536    2020           Zyneb      F       8\n",
      "686537    2021           Zyneb      F       6\n",
      "686538    XXXX           Zyneb      F      19\n",
      "\n",
      "[686492 rows x 4 columns]\n",
      "Step 5           year            name gender  births\n",
      "0       annais        Preusuel      F  nombre\n",
      "1         1900  _prenoms_rares      F    1249\n",
      "2         1901  _prenoms_rares      F    1342\n",
      "3         1902  _prenoms_rares      F    1330\n",
      "4         1903  _prenoms_rares      F    1286\n",
      "...        ...             ...    ...     ...\n",
      "686533    2017           Zyneb      F       6\n",
      "686534    2018           Zyneb      F       5\n",
      "686535    2019           Zyneb      F       7\n",
      "686536    2020           Zyneb      F       8\n",
      "686537    2021           Zyneb      F       6\n",
      "\n",
      "[648575 rows x 4 columns]\n",
      "          year      name gender  births\n",
      "0       annais  Preusuel      F  nombre\n",
      "126       2009     Aadam      F       4\n",
      "127       2014     Aadam      F       3\n",
      "128       2015     Aadam      F       3\n",
      "129       2016     Aadam      F       4\n",
      "...        ...       ...    ...     ...\n",
      "686533    2017     Zyneb      F       6\n",
      "686534    2018     Zyneb      F       5\n",
      "686535    2019     Zyneb      F       7\n",
      "686536    2020     Zyneb      F       8\n",
      "686537    2021     Zyneb      F       6\n",
      "\n",
      "[648331 rows x 4 columns]\n"
     ]
    },
    {
     "name": "stderr",
     "output_type": "stream",
     "text": [
      "/tmp/ipykernel_224879/169755687.py:52: UserWarning: Boolean Series key will be reindexed to match DataFrame index.\n",
      "  french_data = french_data [~damaged_name_data]\n"
     ]
    },
    {
     "name": "stdout",
     "output_type": "stream",
     "text": [
      "Step 6           year      name gender  births\n",
      "0       annais  Preusuel      F  nombre\n",
      "126       2009     Aadam      F       4\n",
      "127       2014     Aadam      F       3\n",
      "128       2015     Aadam      F       3\n",
      "129       2016     Aadam      F       4\n",
      "...        ...       ...    ...     ...\n",
      "686533    2017     Zyneb      F       6\n",
      "686534    2018     Zyneb      F       5\n",
      "686535    2019     Zyneb      F       7\n",
      "686536    2020     Zyneb      F       8\n",
      "686537    2021     Zyneb      F       6\n",
      "\n",
      "[648331 rows x 4 columns]\n",
      "Error in converting year to Date time\n",
      "Error in converting births to numeric\n"
     ]
    },
    {
     "name": "stderr",
     "output_type": "stream",
     "text": [
      "FAIL\n",
      "test_df_names_us (__main__.Session3Tests) ... "
     ]
    },
    {
     "name": "stdout",
     "output_type": "stream",
     "text": [
      "Filed to read NationalReadMe.pdf\n",
      " cumlative leghnt is 2052781 and total leghnt is 2052781\n"
     ]
    },
    {
     "name": "stderr",
     "output_type": "stream",
     "text": [
      "ok\n",
      "test_df_taux_change (__main__.Session3Tests) ... ERROR\n",
      "\n",
      "======================================================================\n",
      "ERROR: test_df_taux_change (__main__.Session3Tests)\n",
      "----------------------------------------------------------------------\n",
      "Traceback (most recent call last):\n",
      "  File \"/tmp/ipykernel_224879/2219234773.py\", line 32, in test_df_taux_change\n",
      "    df = df_taux_change([\"CHF\", \"GBP\", \"USD\"])\n",
      "NameError: name 'df_taux_change' is not defined\n",
      "\n",
      "======================================================================\n",
      "FAIL: test_df_names_fr (__main__.Session3Tests)\n",
      "----------------------------------------------------------------------\n",
      "Traceback (most recent call last):\n",
      "  File \"/tmp/ipykernel_224879/2219234773.py\", line 20, in test_df_names_fr\n",
      "    self.assertEqual(len(df), 648330)\n",
      "AssertionError: 648331 != 648330\n",
      "\n",
      "----------------------------------------------------------------------\n",
      "Ran 3 tests in 10.264s\n",
      "\n",
      "FAILED (failures=1, errors=1)\n"
     ]
    }
   ],
   "source": [
    "# run tests\n",
    "run_tests()"
   ]
  }
 ],
 "metadata": {
  "kernelspec": {
   "display_name": "Python 3.10.6 64-bit",
   "language": "python",
   "name": "python3"
  },
  "language_info": {
   "codemirror_mode": {
    "name": "ipython",
    "version": 3
   },
   "file_extension": ".py",
   "mimetype": "text/x-python",
   "name": "python",
   "nbconvert_exporter": "python",
   "pygments_lexer": "ipython3",
   "version": "3.10.6"
  },
  "vscode": {
   "interpreter": {
    "hash": "916dbcbb3f70747c44a77c7bcd40155683ae19c65e1c03b4aa3499c5328201f1"
   }
  }
 },
 "nbformat": 4,
 "nbformat_minor": 4
}
